{
 "cells": [
  {
   "cell_type": "code",
   "execution_count": null,
   "metadata": {},
   "outputs": [],
   "source": [
    "with arcpy.EnvManager(extent='-8476661.5386 4460363.1808 -8469554.9864 4483736.0627 PROJCS[\"WGS_1984_Web_Mercator_Auxiliary_Sphere\",GEOGCS[\"GCS_WGS_1984\",DATUM[\"D_WGS_1984\",SPHEROID[\"WGS_1984\",6378137.0,298.257223563]],PRIMEM[\"Greenwich\",0.0],UNIT[\"Degree\",0.0174532925199433]],PROJECTION[\"Mercator_Auxiliary_Sphere\"],PARAMETER[\"False_Easting\",0.0],PARAMETER[\"False_Northing\",0.0],PARAMETER[\"Central_Meridian\",0.0],PARAMETER[\"Standard_Parallel_1\",0.0],PARAMETER[\"Auxiliary_Sphere_Type\",0.0],UNIT[\"Meter\",1.0]]'):\n",
    "    out_raster = arcpy.sa.Reclassify(\n",
    "        in_raster=\"s1a-iw-grd-vv_clip_threshold.tif\",\n",
    "        reclass_field=\"Value\",\n",
    "        remap=\"0 NODATA;1 1\",\n",
    "        missing_values=\"DATA\"\n",
    "    )\n",
    "out_raster.save(r\"C:\\Users\\keit8223\\Documents\\ArcGIS\\Projects\\Sentinel Anchorage Areas\\s1a-iw-grd-vv_clip_threshold_reclass.tif\")"
   ]
  },
  {
   "cell_type": "code",
   "execution_count": null,
   "metadata": {},
   "outputs": [],
   "source": [
    "Clip_Area = r\"C:\\Users\\keit8223\\Documents\\ArcGIS\\Projects\\Sentinel Anchorage Areas\\Ancorage_Area.shp\"\n",
    "desc = arcpy.Describe(Clip_Area)\n",
    "\n",
    "SR = arcpy.Describe(Clip_Area).spatialReference\n",
    "print(SR)"
   ]
  },
  {
   "cell_type": "code",
   "execution_count": null,
   "metadata": {},
   "outputs": [],
   "source": [
    "xmin = desc.extent.XMin\n",
    "xmax = desc.extent.XMax\n",
    "ymin = desc.extent.YMin\n",
    "ymax = desc.extent.YMax\n",
    "xmin"
   ]
  }
 ],
 "metadata": {
  "language_info": {
   "name": "python"
  },
  "orig_nbformat": 4
 },
 "nbformat": 4,
 "nbformat_minor": 2
}
