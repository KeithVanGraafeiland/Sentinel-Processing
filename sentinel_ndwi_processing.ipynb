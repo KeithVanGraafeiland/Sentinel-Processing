{
 "cells": [
  {
   "cell_type": "code",
   "execution_count": 1,
   "metadata": {},
   "outputs": [
    {
     "data": {
      "text/plain": [
       "'CheckedOut'"
      ]
     },
     "execution_count": 1,
     "metadata": {},
     "output_type": "execute_result"
    }
   ],
   "source": [
    "# Import system modules\n",
    "\n",
    "import os\n",
    "import arcpy\n",
    "from arcpy.sa import *\n",
    "arcpy.env.overwriteOutput = True\n",
    "\n",
    "# Check out the ArcGIS Spatial Analyst extension license\n",
    "arcpy.CheckOutExtension(\"Spatial\")"
   ]
  },
  {
   "cell_type": "code",
   "execution_count": 2,
   "metadata": {},
   "outputs": [],
   "source": [
    "# create definitions for NDWI band math using raster calculator and reclassify to show only water\n",
    "\n",
    "def sentinelNDWI(Band3,Band8,outImage):\n",
    "    output_raster = (Band3-Band8)/(Band3+Band8)\n",
    "    # output_raster = (Raster(output_raster1),[-1,0,0,1],[0, 1])                                       \n",
    "    output_raster.save(outImage)\n",
    "\n",
    "def reclassH2O(h2O_Image):\n",
    "    out_water = arcpy.sa.Reclassify(in_raster=ndwiFullPath,reclass_field=\"VALUE\", remap=\"-1 0 NODATA;0 1 1\",missing_values=\"DATA\")\n",
    "    out_water.save(h2O_Image)"
   ]
  },
  {
   "cell_type": "code",
   "execution_count": 3,
   "metadata": {},
   "outputs": [],
   "source": [
    "# Loop through the folders and get a list of SAFE directories that contain the Sentinel data\n",
    "# for each directory find the Band 3 and Band 8 images\n",
    "\n",
    "directory = r'E:\\Sentinel\\Tulare'\n",
    "outFolder = 'F:\\\\ArcGIS Pro Projects VOL3\\\\Tulare Lake NDWI\\\\Data\\\\'\n",
    " \n",
    "for folder in os.listdir(directory):\n",
    "    f = os.path.join(directory, folder)\n",
    "    if os.path.isdir(f):\n",
    "        for root, dirs, files in os.walk(f):\n",
    "            for file in files:\n",
    "                if file.endswith(\"B03_10m.jp2\"):\n",
    "                    ndwiImage = str(file.split('_')[0]) + '_' + str(file.split('_')[1]) + '_NDWI.tif'\n",
    "                    ndwiFullPath = outFolder + ndwiImage\n",
    "                    waterImage = str(file.split('_')[0]) + '_' + str(file.split('_')[1]) + '_h2O.tif'\n",
    "                    waterFullPath = outFolder + waterImage\n",
    "                    B03 = Raster(os.path.join(root, file))\n",
    "                if file.endswith(\"B08_10m.jp2\"):\n",
    "                    B08 = Raster(os.path.join(root, file))\n",
    "                # if os.path.exists(ndwiFullPath):\n",
    "                #     print(ndwiImage + \" already exists - skipping.....\")\n",
    "                #     continue\n",
    "                    \n",
    "                # try:\n",
    "                    sentinelNDWI(B03,B08,ndwiFullPath)\n",
    "                    reclassH2O(waterFullPath)"
   ]
  },
  {
   "cell_type": "code",
   "execution_count": 4,
   "metadata": {},
   "outputs": [],
   "source": [
    "def convertTCI(in_jp2,out_cog):\n",
    "    with arcpy.EnvManager(parallelProcessingFactor=\"99%\"):\n",
    "        arcpy.management.CopyRaster(\n",
    "            in_raster=in_jp2,\n",
    "            out_rasterdataset=out_cog,\n",
    "            config_keyword=\"\",\n",
    "            background_value=None,\n",
    "            nodata_value=\"256\",\n",
    "            onebit_to_eightbit=\"NONE\",\n",
    "            colormap_to_RGB=\"NONE\",\n",
    "            pixel_type=\"8_BIT_UNSIGNED\",\n",
    "            scale_pixel_value=\"NONE\",\n",
    "            RGB_to_Colormap=\"NONE\",\n",
    "            format=\"COG\",\n",
    "            transform=\"NONE\",\n",
    "            process_as_multidimensional=\"CURRENT_SLICE\",\n",
    "            build_multidimensional_transpose=\"NO_TRANSPOSE\"\n",
    "        )"
   ]
  },
  {
   "cell_type": "code",
   "execution_count": 5,
   "metadata": {},
   "outputs": [],
   "source": [
    "for folder in os.listdir(directory):\n",
    "    f = os.path.join(directory, folder)\n",
    "    if os.path.isdir(f):\n",
    "        for root, dirs, files in os.walk(f):\n",
    "                    for file in files:\n",
    "                        if file.endswith(\"TCI_10m.jp2\"):\n",
    "                                tciImage = str(file.split('_')[0]) + '_' + str(file.split('_')[1]) + '_TCI.tif'\n",
    "                                tciFullPath = outFolder + tciImage\n",
    "                                tciJP2 = Raster(os.path.join(root, file))\n",
    "                                convertTCI(tciJP2,tciFullPath)"
   ]
  }
 ],
 "metadata": {
  "kernelspec": {
   "display_name": "Python 3",
   "language": "python",
   "name": "python3"
  },
  "language_info": {
   "codemirror_mode": {
    "name": "ipython",
    "version": 3
   },
   "file_extension": ".py",
   "mimetype": "text/x-python",
   "name": "python",
   "nbconvert_exporter": "python",
   "pygments_lexer": "ipython3",
   "version": "3.9.16"
  },
  "orig_nbformat": 4
 },
 "nbformat": 4,
 "nbformat_minor": 2
}
