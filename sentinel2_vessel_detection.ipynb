{
 "cells": [
  {
   "cell_type": "code",
   "execution_count": 7,
   "metadata": {},
   "outputs": [
    {
     "data": {
      "text/plain": [
       "'CheckedOut'"
      ]
     },
     "execution_count": 7,
     "metadata": {},
     "output_type": "execute_result"
    }
   ],
   "source": [
    "# Import system modules\n",
    "\n",
    "import os\n",
    "import arcpy\n",
    "from arcpy.sa import *\n",
    "arcpy.env.overwriteOutput = True\n",
    "\n",
    "# Check out the ArcGIS Spatial Analyst extension license\n",
    "arcpy.CheckOutExtension(\"Spatial\")"
   ]
  },
  {
   "cell_type": "code",
   "execution_count": 8,
   "metadata": {},
   "outputs": [
    {
     "ename": "SyntaxError",
     "evalue": "invalid syntax (1926543098.py, line 9)",
     "output_type": "error",
     "traceback": [
      "\u001b[1;36m  File \u001b[1;32m\"C:\\Users\\keit8223\\AppData\\Local\\Temp\\2\\ipykernel_25684\\1926543098.py\"\u001b[1;36m, line \u001b[1;32m9\u001b[0m\n\u001b[1;33m    out_water = with arcpy.EnvManager(extent='-8476661.5386 4460363.1808 -8469554.9864 4483736.0627 PROJCS[\"WGS_1984_Web_Mercator_Auxiliary_Sphere\",GEOGCS[\"GCS_WGS_1984\",DATUM[\"D_WGS_1984\",SPHEROID[\"WGS_1984\",6378137.0,298.257223563]],PRIMEM[\"Greenwich\",0.0],UNIT[\"Degree\",0.0174532925199433]],PROJECTION[\"Mercator_Auxiliary_Sphere\"],PARAMETER[\"False_Easting\",0.0],PARAMETER[\"False_Northing\",0.0],PARAMETER[\"Central_Meridian\",0.0],PARAMETER[\"Standard_Parallel_1\",0.0],PARAMETER[\"Auxiliary_Sphere_Type\",0.0],UNIT[\"Meter\",1.0]]'):arcpy.sa.Reclassify(in_raster=ndwiFullPath,reclass_field=\"VALUE\", remap=\"-1 0.1 1;0.1 1 NODATA\",missing_values=\"DATA\")\u001b[0m\n\u001b[1;37m                ^\u001b[0m\n\u001b[1;31mSyntaxError\u001b[0m\u001b[1;31m:\u001b[0m invalid syntax\n"
     ]
    }
   ],
   "source": [
    "# create definitions for NDWI band math using raster calculator and reclassify to show only water\n",
    "\n",
    "def sentinelNDWI(Band3,Band8,outImage):\n",
    "    output_raster = (Band3-Band8)/(Band3+Band8)\n",
    "    # output_raster = (Raster(output_raster1),[-1,0,0,1],[0, 1])                                       \n",
    "    output_raster.save(outImage)\n",
    "\n",
    "def reclassH2O(h2O_Image):\n",
    "    out_water = arcpy.sa.Reclassify(in_raster=ndwiFullPath,reclass_field=\"VALUE\", remap=\"-1 0.1 1;0.1 1 NODATA\",missing_values=\"DATA\")\n",
    "    out_water.save(h2O_Image)\n",
    "\n",
    "def vesselPolygons(h2O_Image, vessel_polygon):\n",
    "    arcpy.conversion.RasterToPolygon(\n",
    "        in_raster=h2O_Image,\n",
    "        out_polygon_features=vessel_polygon,\n",
    "        simplify=\"NO_SIMPLIFY\",\n",
    "        raster_field=\"Value\",\n",
    "        create_multipart_features=\"SINGLE_OUTER_PART\",\n",
    "        max_vertices_per_feature=None\n",
    "    )"
   ]
  },
  {
   "cell_type": "code",
   "execution_count": null,
   "metadata": {},
   "outputs": [],
   "source": [
    "with arcpy.EnvManager(extent='-8476661.5386 4460363.1808 -8469554.9864 4483736.0627 PROJCS[\"WGS_1984_Web_Mercator_Auxiliary_Sphere\",GEOGCS[\"GCS_WGS_1984\",DATUM[\"D_WGS_1984\",SPHEROID[\"WGS_1984\",6378137.0,298.257223563]],PRIMEM[\"Greenwich\",0.0],UNIT[\"Degree\",0.0174532925199433]],PROJECTION[\"Mercator_Auxiliary_Sphere\"],PARAMETER[\"False_Easting\",0.0],PARAMETER[\"False_Northing\",0.0],PARAMETER[\"Central_Meridian\",0.0],PARAMETER[\"Standard_Parallel_1\",0.0],PARAMETER[\"Auxiliary_Sphere_Type\",0.0],UNIT[\"Meter\",1.0]]'):\n",
    "    out_raster = arcpy.sa.Reclassify(\n",
    "        in_raster=\"s1a-iw-grd-vv_clip_threshold.tif\",\n",
    "        reclass_field=\"Value\",\n",
    "        remap=\"0 NODATA;1 1\",\n",
    "        missing_values=\"DATA\"\n",
    "    )\n",
    "out_raster.save(r\"C:\\Users\\keit8223\\Documents\\ArcGIS\\Projects\\Sentinel Anchorage Areas\\s1a-iw-grd-vv_clip_threshold_reclass.tif\")"
   ]
  },
  {
   "cell_type": "code",
   "execution_count": 6,
   "metadata": {},
   "outputs": [
    {
     "name": "stdout",
     "output_type": "stream",
     "text": [
      "<geoprocessing spatial reference object object at 0x000002C7DA7F5F70>\n"
     ]
    }
   ],
   "source": [
    "Clip_Area = r\"C:\\Users\\keit8223\\Documents\\ArcGIS\\Projects\\Sentinel Anchorage Areas\\Ancorage_Area.shp\"\n",
    "desc = arcpy.Describe(Clip_Area)\n",
    "\n",
    "SR = arcpy.Describe(Clip_Area).spatialReference\n",
    "print(SR)"
   ]
  },
  {
   "cell_type": "code",
   "execution_count": 4,
   "metadata": {},
   "outputs": [
    {
     "data": {
      "text/plain": [
       "-8476661.5386"
      ]
     },
     "execution_count": 4,
     "metadata": {},
     "output_type": "execute_result"
    }
   ],
   "source": [
    "xmin = desc.extent.XMin\n",
    "xmax = desc.extent.XMax\n",
    "ymin = desc.extent.YMin\n",
    "ymax = desc.extent.YMax\n",
    "xmin"
   ]
  },
  {
   "cell_type": "code",
   "execution_count": null,
   "metadata": {},
   "outputs": [],
   "source": [
    "# Loop through the folders and get a list of SAFE directories that contain the Sentinel data\n",
    "# for each directory find the Band 3 and Band 8 images\n",
    "\n",
    "directory = r'C:\\\\Users\\\\keit8223\\\\Documents\\\\ArcGIS\\\\Projects\\\\Sentinel Anchorage Areas\\Data'\n",
    "outFolder = r'C:\\\\temp\\\\'\n",
    "\n",
    "# Clip_Area = r\"C:\\Users\\keit8223\\Documents\\ArcGIS\\Projects\\Sentinel Anchorage Areas\\Ancorage_Area.shp\"\n",
    "\n",
    "for folder in os.listdir(directory):\n",
    "    f = os.path.join(directory, folder)\n",
    "    if os.path.isdir(f):\n",
    "        for root, dirs, files in os.walk(f):\n",
    "            for file in files:\n",
    "                # print(file)\n",
    "                if file.endswith(\"B03.jp2\"):\n",
    "                    ndwiImage = str(file.split('_')[0]) + '_' + str(file.split('_')[1]) + '_NDWI.tif'\n",
    "                    ndwiFullPath = outFolder + ndwiImage\n",
    "                    # print(ndwiImage)\n",
    "                    # print(ndwiFullPath)\n",
    "                    waterImage = str(file.split('_')[0]) + '_' + str(file.split('_')[1]) + '_h2O.tif'\n",
    "                    waterFullPath = outFolder + waterImage\n",
    "                    vesselPoly = str(file.split('_')[0]) + '_' + str(file.split('_')[1]) + '_vessel_poly.shp'\n",
    "                    vesselPolyPath = outFolder + vesselPoly\n",
    "                    vesselPoint = str(file.split('_')[0]) + '_' + str(file.split('_')[1]) + '_vessel_point.shp'\n",
    "                    vesselPointPath = outFolder + vesselPoint\n",
    "                    B03 = Raster(os.path.join(root, file))\n",
    "                if file.endswith(\"B08.jp2\"):\n",
    "                    B08 = Raster(os.path.join(root, file))\n",
    "                    sentinelNDWI(B03,B08,ndwiFullPath)\n",
    "                    reclassH2O(waterFullPath)\n",
    "                    vesselPolygons(waterFullPath,vesselPolyPath)\n",
    "\n",
    "                    \n",
    "                    "
   ]
  }
 ],
 "metadata": {
  "kernelspec": {
   "display_name": "Python 3",
   "language": "python",
   "name": "python3"
  },
  "language_info": {
   "codemirror_mode": {
    "name": "ipython",
    "version": 3
   },
   "file_extension": ".py",
   "mimetype": "text/x-python",
   "name": "python",
   "nbconvert_exporter": "python",
   "pygments_lexer": "ipython3",
   "version": "3.9.16"
  },
  "orig_nbformat": 4
 },
 "nbformat": 4,
 "nbformat_minor": 2
}
