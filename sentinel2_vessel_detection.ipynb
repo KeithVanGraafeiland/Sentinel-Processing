{
 "cells": [
  {
   "cell_type": "code",
   "execution_count": 1,
   "metadata": {},
   "outputs": [
    {
     "data": {
      "text/plain": [
       "'CheckedOut'"
      ]
     },
     "execution_count": 1,
     "metadata": {},
     "output_type": "execute_result"
    }
   ],
   "source": [
    "# Import system modules\n",
    "\n",
    "import os\n",
    "import arcpy\n",
    "from arcpy.sa import *\n",
    "arcpy.env.overwriteOutput = True\n",
    "\n",
    "# Check out the ArcGIS Spatial Analyst extension license\n",
    "arcpy.CheckOutExtension(\"Spatial\")"
   ]
  },
  {
   "cell_type": "code",
   "execution_count": 2,
   "metadata": {},
   "outputs": [],
   "source": [
    "# create definitions for NDWI band math using raster calculator and reclassify to show only water\n",
    "\n",
    "def sentinelNDWI(Band3,Band8,outImage,outImageClip):\n",
    "    output_raster = (Band3-Band8)/(Band3+Band8)\n",
    "    # output_raster = (Raster(output_raster1),[-1,0,0,1],[0, 1])                                       \n",
    "    output_raster.save(outImage)\n",
    "    arcpy.management.Clip(\n",
    "    in_raster=outImage,\n",
    "    rectangle=\"-76.1471461843248 37.1523459886121 -76.0833069397383 37.3195073802082\",\n",
    "    out_raster=outImageClip,\n",
    "    in_template_dataset=Clip_Area,\n",
    "    nodata_value=\"-1\",\n",
    "    clipping_geometry=\"ClippingGeometry\",\n",
    "    maintain_clipping_extent=\"NO_MAINTAIN_EXTENT\"\n",
    ")\n",
    "\n",
    "def reclassH2O(h2O_Image):\n",
    "    out_water = arcpy.sa.Reclassify(in_raster=ndwiClipFullPath,reclass_field=\"VALUE\", remap=\"-1 0.1 1;0.1 1 NODATA\",missing_values=\"DATA\")\n",
    "    out_water.save(h2O_Image)\n",
    "\n",
    "def vesselPolygons(h2O_Image, vessel_polygon):\n",
    "    arcpy.conversion.RasterToPolygon(\n",
    "        in_raster=h2O_Image,\n",
    "        out_polygon_features=vessel_polygon,\n",
    "        simplify=\"NO_SIMPLIFY\",\n",
    "        raster_field=\"Value\",\n",
    "        create_multipart_features=\"SINGLE_OUTER_PART\",\n",
    "        max_vertices_per_feature=None\n",
    "    )"
   ]
  },
  {
   "cell_type": "code",
   "execution_count": 3,
   "metadata": {},
   "outputs": [
    {
     "ename": "",
     "evalue": "",
     "output_type": "error",
     "traceback": [
      "\u001b[1;31mCanceled future for execute_request message before replies were done"
     ]
    },
    {
     "ename": "",
     "evalue": "",
     "output_type": "error",
     "traceback": [
      "\u001b[1;31mThe Kernel crashed while executing code in the the current cell or a previous cell. Please review the code in the cell(s) to identify a possible cause of the failure. Click <a href='https://aka.ms/vscodeJupyterKernelCrash'>here</a> for more info. View Jupyter <a href='command:jupyter.viewOutput'>log</a> for further details."
     ]
    }
   ],
   "source": [
    "# Loop through the folders and get a list of SAFE directories that contain the Sentinel data\n",
    "# for each directory find the Band 3 and Band 8 images\n",
    "\n",
    "directory = r'C:\\\\Users\\\\keit8223\\\\Documents\\\\ArcGIS\\\\Projects\\\\Sentinel Anchorage Areas\\Data'\n",
    "outFolder = r'C:\\\\temp\\\\'\n",
    "\n",
    "Clip_Area = r\"C:\\Users\\keit8223\\Documents\\ArcGIS\\Projects\\Sentinel Anchorage Areas\\Ancorage_Area.shp\"\n",
    "\n",
    "for folder in os.listdir(directory):\n",
    "    f = os.path.join(directory, folder)\n",
    "    if os.path.isdir(f):\n",
    "        for root, dirs, files in os.walk(f):\n",
    "            for file in files:\n",
    "                # print(file)\n",
    "                if file.endswith(\"B03.jp2\"):\n",
    "                    ndwiImage = str(file.split('_')[0]) + '_' + str(file.split('_')[1]) + '_NDWI.tif'\n",
    "                    ndwiFullPath = outFolder + ndwiImage\n",
    "                    ndwiClipImage = str(file.split('_')[0]) + '_' + str(file.split('_')[1]) + '_NDWI_Clip.tif'\n",
    "                    ndwiClipFullPath = outFolder + ndwiClipImage\n",
    "                    # print(ndwiImage)\n",
    "                    # print(ndwiFullPath)\n",
    "                    waterImage = str(file.split('_')[0]) + '_' + str(file.split('_')[1]) + '_h2O.tif'\n",
    "                    waterFullPath = outFolder + waterImage\n",
    "                    vesselPoly = str(file.split('_')[0]) + '_' + str(file.split('_')[1]) + '_vessel_poly.shp'\n",
    "                    vesselPolyPath = outFolder + vesselPoly\n",
    "                    vesselPoint = str(file.split('_')[0]) + '_' + str(file.split('_')[1]) + '_vessel_point.shp'\n",
    "                    vesselPointPath = outFolder + vesselPoint\n",
    "                    B03 = Raster(os.path.join(root, file))\n",
    "                if file.endswith(\"B08.jp2\"):\n",
    "                    B08 = Raster(os.path.join(root, file))\n",
    "\n",
    "                    sentinelNDWI(B03,B08,ndwiFullPath,ndwiClipFullPath)\n",
    "                    reclassH2O(waterFullPath)\n",
    "                    vesselPolygons(waterFullPath,vesselPolyPath)                "
   ]
  }
 ],
 "metadata": {
  "kernelspec": {
   "display_name": "Python 3",
   "language": "python",
   "name": "python3"
  },
  "language_info": {
   "codemirror_mode": {
    "name": "ipython",
    "version": 3
   },
   "file_extension": ".py",
   "mimetype": "text/x-python",
   "name": "python",
   "nbconvert_exporter": "python",
   "pygments_lexer": "ipython3",
   "version": "3.9.16"
  },
  "orig_nbformat": 4
 },
 "nbformat": 4,
 "nbformat_minor": 2
}
